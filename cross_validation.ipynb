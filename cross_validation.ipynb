{
 "cells": [
  {
   "cell_type": "code",
   "execution_count": 111,
   "metadata": {},
   "outputs": [],
   "source": [
    "import scanpy as sc\n",
    "import numpy as np\n",
    "from sklearn.model_selection import KFold\n",
    "from sklearn.naive_bayes import MultinomialNB\n",
    "from sklearn.metrics import accuracy_score\n",
    "from sklearn.preprocessing import LabelEncoder\n",
    "from sklearn.model_selection import cross_val_score\n"
   ]
  },
  {
   "cell_type": "code",
   "execution_count": 44,
   "metadata": {},
   "outputs": [],
   "source": [
    "latent = sc.read('./data/11_latent_moe.h5ad')\n",
    "adata = sc.read('./data/09_tcr_annotation_A_B_with_gender_data.h5ad')"
   ]
  },
  {
   "cell_type": "code",
   "execution_count": 6,
   "metadata": {},
   "outputs": [],
   "source": [
    "latent.uns['iroot'] = 36 #can comment this in and out"
   ]
  },
  {
   "cell_type": "code",
   "execution_count": 45,
   "metadata": {},
   "outputs": [],
   "source": [
    "adata.uns['iroot'] = 36 #can comment this in and out"
   ]
  },
  {
   "cell_type": "code",
   "execution_count": 33,
   "metadata": {},
   "outputs": [
    {
     "name": "stderr",
     "output_type": "stream",
     "text": [
      "WARNING: Using high n_obs without `knn=True` takes a lot of memory...\n",
      "WARNING: shifting branching point away from maximal kendall-tau correlation (suppress this with `allow_kendall_tau_shift=False`)\n",
      "WARNING: shifting branching point away from maximal kendall-tau correlation (suppress this with `allow_kendall_tau_shift=False`)\n"
     ]
    },
    {
     "name": "stdout",
     "output_type": "stream",
     "text": [
      "Index(['batch', 'Sample', 'donor', 'organ', 'sort', 'method', 'file',\n",
      "       'is_TRA_p', 'is_TRB_p', 'is_TRA_np', 'is_TRB_np', 'Age', 'Source',\n",
      "       'cell types', 'n_counts', 'log_counts', 'n_genes', 'mt_fraction',\n",
      "       'multi_chain', 'IR_VJ_1_locus', 'IR_VJ_2_locus', 'IR_VDJ_1_locus',\n",
      "       'IR_VDJ_2_locus', 'IR_VJ_1_cdr3', 'IR_VJ_2_cdr3', 'IR_VDJ_1_cdr3',\n",
      "       'IR_VDJ_2_cdr3', 'IR_VJ_1_cdr3_nt', 'IR_VJ_2_cdr3_nt',\n",
      "       'IR_VDJ_1_cdr3_nt', 'IR_VDJ_2_cdr3_nt', 'IR_VJ_1_expr', 'IR_VJ_2_expr',\n",
      "       'IR_VDJ_1_expr', 'IR_VDJ_2_expr', 'IR_VJ_1_expr_raw',\n",
      "       'IR_VJ_2_expr_raw', 'IR_VDJ_1_expr_raw', 'IR_VDJ_2_expr_raw',\n",
      "       'IR_VJ_1_v_gene', 'IR_VJ_2_v_gene', 'IR_VDJ_1_v_gene',\n",
      "       'IR_VDJ_2_v_gene', 'IR_VJ_1_d_gene', 'IR_VJ_2_d_gene',\n",
      "       'IR_VDJ_1_d_gene', 'IR_VDJ_2_d_gene', 'IR_VJ_1_j_gene',\n",
      "       'IR_VJ_2_j_gene', 'IR_VDJ_1_j_gene', 'IR_VDJ_2_j_gene',\n",
      "       'IR_VJ_1_c_gene', 'IR_VJ_2_c_gene', 'IR_VDJ_1_c_gene',\n",
      "       'IR_VDJ_2_c_gene', 'IR_VJ_1_junction', 'IR_VJ_2_junction',\n",
      "       'IR_VDJ_1_junction', 'IR_VDJ_2_junction', 'has_ir', 'receptor_type',\n",
      "       'receptor_subtype', 'chain_pairing', 'TRA+TRB', 'clonotype', 'seq_len',\n",
      "       'alpha_len', 'beta_len', 'set', 'Gender', 'leiden', 'dpt_groups',\n",
      "       'dpt_order', 'dpt_order_indices', 'dpt_pseudotime'],\n",
      "      dtype='object')\n"
     ]
    }
   ],
   "source": [
    "#sc.pp.neighbors(latent, n_neighbors=20, use_rep='X', method='gauss')\n",
    "sc.pp.neighbors(latent, n_neighbors=5, method='gauss', knn=False)\n",
    "sc.tl.diffmap(latent)\n",
    "sc.tl.dpt(latent, n_branchings=1, n_dcs=10)"
   ]
  },
  {
   "cell_type": "code",
   "execution_count": 46,
   "metadata": {},
   "outputs": [
    {
     "name": "stderr",
     "output_type": "stream",
     "text": [
      "WARNING: Using high n_obs without `knn=True` takes a lot of memory...\n",
      "WARNING: You’re trying to run this on 5000 dimensions of `.X`, if you really want this, set `use_rep='X'`.\n",
      "         Falling back to preprocessing with `sc.pp.pca` and default params.\n",
      "WARNING: shifting branching point away from maximal kendall-tau correlation (suppress this with `allow_kendall_tau_shift=False`)\n"
     ]
    }
   ],
   "source": [
    "#sc.pp.neighbors(latent, n_neighbors=20, use_rep='X', method='gauss')\n",
    "sc.pp.neighbors(adata, n_neighbors=5, method='gauss', knn=False)\n",
    "sc.tl.diffmap(adata)\n",
    "sc.tl.dpt(adata, n_branchings=1, n_dcs=10)"
   ]
  },
  {
   "cell_type": "code",
   "execution_count": 94,
   "metadata": {},
   "outputs": [],
   "source": [
    "k = 10\n",
    "kf = KFold(n_splits=k) \n",
    "model = MultinomialNB()\n",
    "def results_cross_validation(X, y):\n",
    "    X = X.reshape(-1,1)\n",
    "    acc_score = []\n",
    "    for train_index, test_index in kf.split(X):\n",
    "        #print(\"TRAIN:\", train_index, \"TEST:\", test_index)\n",
    "        X_train, X_test = X[train_index], X[test_index]\n",
    "        y_train, y_test = y[train_index], y[test_index]\n",
    "        model.fit(X_train, y_train)\n",
    "        pred_values = model.predict(X_test)\n",
    "\n",
    "        acc = accuracy_score(pred_values, y_test)\n",
    "        acc_score.append(acc)\n",
    "\n",
    "    avg_acc_score = sum(acc_score)/k\n",
    "    return(acc_score, avg_acc_score)\n"
   ]
  },
  {
   "cell_type": "code",
   "execution_count": 114,
   "metadata": {},
   "outputs": [
    {
     "name": "stdout",
     "output_type": "stream",
     "text": [
      "Results for the latent space:\n",
      " \n",
      "accuracy of each fold - [0.22729347329986307, 0.25696029210406207, 0.20173436786855317, 0.17663167503423094, 0.1178082191780822]\n",
      "Avg accuracy : 0.19608560549695828\n",
      " \n",
      "Results for the adata space:\n",
      " \n",
      "accuracy of each fold - [0.22729347329986307, 0.25696029210406207, 0.20173436786855317, 0.17663167503423094, 0.1178082191780822]\n",
      "Avg accuracy : 0.19608560549695828\n"
     ]
    }
   ],
   "source": [
    "le = LabelEncoder()\n",
    "X = latent.obs['dpt_pseudotime'].to_numpy()\n",
    "y = latent.obs['cell types'].to_numpy()\n",
    "le.fit(y)\n",
    "y = le.transform(y)\n",
    "results1 = results_cross_validation(X,y)\n",
    "print(\"Results for the latent space:\")\n",
    "print(\" \")\n",
    "print('accuracy of each fold - {}'.format(results1[0]))\n",
    "print('Avg accuracy : {}'.format(results1[1]))\n",
    "\n",
    "X = adata.obs['dpt_pseudotime'].to_numpy()\n",
    "y = adata.obs['cell types'].to_numpy()\n",
    "le.fit(y)\n",
    "y = le.transform(y)\n",
    "results2 = results_cross_validation(X,y)\n",
    "print(\" \")\n",
    "print(\"Results for the adata space:\")\n",
    "print(\" \")\n",
    "print('accuracy of each fold - {}'.format(results2[0]))\n",
    "print('Avg accuracy : {}'.format(results2[1]))\n"
   ]
  },
  {
   "cell_type": "markdown",
   "metadata": {},
   "source": [
    "## Exactly the same method and results, but using cross_val_score:"
   ]
  },
  {
   "cell_type": "code",
   "execution_count": 116,
   "metadata": {},
   "outputs": [
    {
     "name": "stdout",
     "output_type": "stream",
     "text": [
      "Avg accuracy: 0.19608560549695828\n"
     ]
    }
   ],
   "source": [
    "X = latent.obs['dpt_pseudotime'].to_numpy()\n",
    "X = X.reshape(-1,1)\n",
    "y = latent.obs['cell types'].to_numpy()\n",
    "le.fit(y)\n",
    "y = le.transform(y)\n",
    "k = 5\n",
    "kf = KFold(n_splits=k, random_state=None)\n",
    "model = MultinomialNB()\n",
    "result = cross_val_score(model , X, y, cv = kf)\n",
    " \n",
    "print(\"Avg accuracy: {}\".format(result.mean()))"
   ]
  },
  {
   "cell_type": "code",
   "execution_count": 117,
   "metadata": {},
   "outputs": [
    {
     "name": "stdout",
     "output_type": "stream",
     "text": [
      "Avg accuracy: 0.19608560549695828\n"
     ]
    }
   ],
   "source": [
    "X = adata.obs['dpt_pseudotime'].to_numpy()\n",
    "X = X.reshape(-1,1)\n",
    "y = adata.obs['cell types'].to_numpy()\n",
    "le.fit(y)\n",
    "y = le.transform(y)\n",
    "k = 5\n",
    "kf = KFold(n_splits=k, random_state=None)\n",
    "model = MultinomialNB()\n",
    "result = cross_val_score(model , X, y, cv = kf)\n",
    " \n",
    "print(\"Avg accuracy: {}\".format(result.mean()))"
   ]
  }
 ],
 "metadata": {
  "interpreter": {
   "hash": "332758f108c491b69a28c419daffc4e1bb34fa08f41268cfe421f95511301e6b"
  },
  "kernelspec": {
   "display_name": "Python 3.8.8 ('TCRproject')",
   "language": "python",
   "name": "python3"
  },
  "language_info": {
   "codemirror_mode": {
    "name": "ipython",
    "version": 3
   },
   "file_extension": ".py",
   "mimetype": "text/x-python",
   "name": "python",
   "nbconvert_exporter": "python",
   "pygments_lexer": "ipython3",
   "version": "3.8.8"
  },
  "orig_nbformat": 4
 },
 "nbformat": 4,
 "nbformat_minor": 2
}
