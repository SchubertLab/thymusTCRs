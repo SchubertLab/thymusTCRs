{
 "cells": [
  {
   "cell_type": "code",
   "execution_count": 16,
   "metadata": {},
   "outputs": [],
   "source": [
    "import scanpy as sc\n",
    "import numpy as np\n",
    "from sklearn.model_selection import KFold\n",
    "from sklearn.naive_bayes import MultinomialNB\n",
    "from sklearn.metrics import accuracy_score\n",
    "from sklearn.preprocessing import LabelEncoder\n",
    "from sklearn.model_selection import cross_val_score\n",
    "from sklearn.linear_model import LogisticRegression\n",
    "from sklearn.metrics import f1_score\n"
   ]
  },
  {
   "cell_type": "code",
   "execution_count": 2,
   "metadata": {},
   "outputs": [],
   "source": [
    "latent = sc.read('./data/11_latent_moe.h5ad')\n",
    "adata = sc.read('./data/09_tcr_annotation_A_B_with_gender_data.h5ad')"
   ]
  },
  {
   "cell_type": "code",
   "execution_count": 3,
   "metadata": {},
   "outputs": [],
   "source": [
    "latent.uns['iroot'] = 36 #can comment this in and out"
   ]
  },
  {
   "cell_type": "code",
   "execution_count": 4,
   "metadata": {},
   "outputs": [],
   "source": [
    "adata.uns['iroot'] = 36 #can comment this in and out"
   ]
  },
  {
   "cell_type": "code",
   "execution_count": 5,
   "metadata": {},
   "outputs": [
    {
     "name": "stderr",
     "output_type": "stream",
     "text": [
      "WARNING: Using high n_obs without `knn=True` takes a lot of memory...\n",
      "WARNING: shifting branching point away from maximal kendall-tau correlation (suppress this with `allow_kendall_tau_shift=False`)\n",
      "WARNING: shifting branching point away from maximal kendall-tau correlation (suppress this with `allow_kendall_tau_shift=False`)\n"
     ]
    }
   ],
   "source": [
    "#sc.pp.neighbors(latent, n_neighbors=20, use_rep='X', method='gauss')\n",
    "sc.pp.neighbors(latent, n_neighbors=5, method='gauss', knn=False)\n",
    "sc.tl.diffmap(latent)\n",
    "sc.tl.dpt(latent, n_branchings=1, n_dcs=10)"
   ]
  },
  {
   "cell_type": "code",
   "execution_count": 6,
   "metadata": {},
   "outputs": [
    {
     "name": "stderr",
     "output_type": "stream",
     "text": [
      "WARNING: Using high n_obs without `knn=True` takes a lot of memory...\n",
      "WARNING: You’re trying to run this on 5000 dimensions of `.X`, if you really want this, set `use_rep='X'`.\n",
      "         Falling back to preprocessing with `sc.pp.pca` and default params.\n",
      "WARNING: shifting branching point away from maximal kendall-tau correlation (suppress this with `allow_kendall_tau_shift=False`)\n"
     ]
    }
   ],
   "source": [
    "#sc.pp.neighbors(latent, n_neighbors=20, use_rep='X', method='gauss')\n",
    "sc.pp.neighbors(adata, n_neighbors=5, method='gauss', knn=False)\n",
    "sc.tl.diffmap(adata)\n",
    "sc.tl.dpt(adata, n_branchings=1, n_dcs=10)"
   ]
  },
  {
   "cell_type": "code",
   "execution_count": 30,
   "metadata": {},
   "outputs": [],
   "source": [
    "k = 10\n",
    "kf = KFold(n_splits=k) \n",
    "model = LogisticRegression(solver = 'liblinear')\n",
    "def results_cross_validation(X, y, score):\n",
    "    X = X.reshape(-1,1)\n",
    "    acc_score = []\n",
    "    for train_index, test_index in kf.split(X):\n",
    "        #print(\"TRAIN:\", train_index, \"TEST:\", test_index)\n",
    "        X_train, X_test = X[train_index], X[test_index]\n",
    "        y_train, y_test = y[train_index], y[test_index]\n",
    "        model.fit(X_train, y_train)\n",
    "        pred_values = model.predict(X_test)\n",
    "\n",
    "        if score == 'accuracy_score':\n",
    "            acc = accuracy_score(y_true = y_test, y_pred = pred_values)\n",
    "        if score == 'f1_score':\n",
    "            acc = f1_score(y_true = y_test, y_pred = pred_values, average='weighted')\n",
    "        acc_score.append(acc)\n",
    "\n",
    "    avg_acc_score = sum(acc_score)/k\n",
    "    return(acc_score, avg_acc_score)\n"
   ]
  },
  {
   "cell_type": "markdown",
   "metadata": {},
   "source": [
    "## Results with f1_score and newton_cg solver"
   ]
  },
  {
   "cell_type": "code",
   "execution_count": 29,
   "metadata": {},
   "outputs": [
    {
     "name": "stderr",
     "output_type": "stream",
     "text": [
      "C:\\Users\\Gheorghe Pascu\\anaconda3\\envs\\TCRproject\\lib\\site-packages\\scipy\\optimize\\linesearch.py:327: LineSearchWarning: The line search algorithm did not converge\n",
      "  warn('The line search algorithm did not converge', LineSearchWarning)\n",
      "C:\\Users\\Gheorghe Pascu\\anaconda3\\envs\\TCRproject\\lib\\site-packages\\sklearn\\utils\\optimize.py:204: UserWarning: Line Search failed\n",
      "  warnings.warn('Line Search failed')\n",
      "C:\\Users\\Gheorghe Pascu\\anaconda3\\envs\\TCRproject\\lib\\site-packages\\scipy\\optimize\\linesearch.py:327: LineSearchWarning: The line search algorithm did not converge\n",
      "  warn('The line search algorithm did not converge', LineSearchWarning)\n",
      "C:\\Users\\Gheorghe Pascu\\anaconda3\\envs\\TCRproject\\lib\\site-packages\\sklearn\\utils\\optimize.py:204: UserWarning: Line Search failed\n",
      "  warnings.warn('Line Search failed')\n",
      "C:\\Users\\Gheorghe Pascu\\anaconda3\\envs\\TCRproject\\lib\\site-packages\\scipy\\optimize\\linesearch.py:327: LineSearchWarning: The line search algorithm did not converge\n",
      "  warn('The line search algorithm did not converge', LineSearchWarning)\n",
      "C:\\Users\\Gheorghe Pascu\\anaconda3\\envs\\TCRproject\\lib\\site-packages\\sklearn\\utils\\optimize.py:204: UserWarning: Line Search failed\n",
      "  warnings.warn('Line Search failed')\n",
      "C:\\Users\\Gheorghe Pascu\\anaconda3\\envs\\TCRproject\\lib\\site-packages\\scipy\\optimize\\linesearch.py:327: LineSearchWarning: The line search algorithm did not converge\n",
      "  warn('The line search algorithm did not converge', LineSearchWarning)\n",
      "C:\\Users\\Gheorghe Pascu\\anaconda3\\envs\\TCRproject\\lib\\site-packages\\sklearn\\utils\\optimize.py:204: UserWarning: Line Search failed\n",
      "  warnings.warn('Line Search failed')\n",
      "C:\\Users\\Gheorghe Pascu\\anaconda3\\envs\\TCRproject\\lib\\site-packages\\scipy\\optimize\\linesearch.py:327: LineSearchWarning: The line search algorithm did not converge\n",
      "  warn('The line search algorithm did not converge', LineSearchWarning)\n",
      "C:\\Users\\Gheorghe Pascu\\anaconda3\\envs\\TCRproject\\lib\\site-packages\\sklearn\\utils\\optimize.py:204: UserWarning: Line Search failed\n",
      "  warnings.warn('Line Search failed')\n",
      "C:\\Users\\Gheorghe Pascu\\anaconda3\\envs\\TCRproject\\lib\\site-packages\\scipy\\optimize\\linesearch.py:327: LineSearchWarning: The line search algorithm did not converge\n",
      "  warn('The line search algorithm did not converge', LineSearchWarning)\n",
      "C:\\Users\\Gheorghe Pascu\\anaconda3\\envs\\TCRproject\\lib\\site-packages\\sklearn\\utils\\optimize.py:204: UserWarning: Line Search failed\n",
      "  warnings.warn('Line Search failed')\n",
      "C:\\Users\\Gheorghe Pascu\\anaconda3\\envs\\TCRproject\\lib\\site-packages\\scipy\\optimize\\linesearch.py:327: LineSearchWarning: The line search algorithm did not converge\n",
      "  warn('The line search algorithm did not converge', LineSearchWarning)\n",
      "C:\\Users\\Gheorghe Pascu\\anaconda3\\envs\\TCRproject\\lib\\site-packages\\sklearn\\utils\\optimize.py:204: UserWarning: Line Search failed\n",
      "  warnings.warn('Line Search failed')\n",
      "C:\\Users\\Gheorghe Pascu\\anaconda3\\envs\\TCRproject\\lib\\site-packages\\scipy\\optimize\\linesearch.py:327: LineSearchWarning: The line search algorithm did not converge\n",
      "  warn('The line search algorithm did not converge', LineSearchWarning)\n",
      "C:\\Users\\Gheorghe Pascu\\anaconda3\\envs\\TCRproject\\lib\\site-packages\\sklearn\\utils\\optimize.py:204: UserWarning: Line Search failed\n",
      "  warnings.warn('Line Search failed')\n",
      "C:\\Users\\Gheorghe Pascu\\anaconda3\\envs\\TCRproject\\lib\\site-packages\\scipy\\optimize\\linesearch.py:327: LineSearchWarning: The line search algorithm did not converge\n",
      "  warn('The line search algorithm did not converge', LineSearchWarning)\n",
      "C:\\Users\\Gheorghe Pascu\\anaconda3\\envs\\TCRproject\\lib\\site-packages\\sklearn\\utils\\optimize.py:204: UserWarning: Line Search failed\n",
      "  warnings.warn('Line Search failed')\n",
      "C:\\Users\\Gheorghe Pascu\\anaconda3\\envs\\TCRproject\\lib\\site-packages\\scipy\\optimize\\linesearch.py:327: LineSearchWarning: The line search algorithm did not converge\n",
      "  warn('The line search algorithm did not converge', LineSearchWarning)\n",
      "C:\\Users\\Gheorghe Pascu\\anaconda3\\envs\\TCRproject\\lib\\site-packages\\sklearn\\utils\\optimize.py:204: UserWarning: Line Search failed\n",
      "  warnings.warn('Line Search failed')\n"
     ]
    },
    {
     "name": "stdout",
     "output_type": "stream",
     "text": [
      "Results for the latent space:\n",
      " \n",
      "accuracy of each fold - [0.18274758236423005, 0.1394734559693202, 0.1905225654942298, 0.2560711669691271, 0.25916766346650577, 0.16645220671449273, 0.08470593094982908, 0.05822158447025255, 0.06812847957845619, 0.05144510747085692]\n",
      "Avg accuracy : 0.14569357434473001\n"
     ]
    },
    {
     "name": "stderr",
     "output_type": "stream",
     "text": [
      "C:\\Users\\Gheorghe Pascu\\anaconda3\\envs\\TCRproject\\lib\\site-packages\\scipy\\optimize\\linesearch.py:327: LineSearchWarning: The line search algorithm did not converge\n",
      "  warn('The line search algorithm did not converge', LineSearchWarning)\n",
      "C:\\Users\\Gheorghe Pascu\\anaconda3\\envs\\TCRproject\\lib\\site-packages\\sklearn\\utils\\optimize.py:204: UserWarning: Line Search failed\n",
      "  warnings.warn('Line Search failed')\n",
      "C:\\Users\\Gheorghe Pascu\\anaconda3\\envs\\TCRproject\\lib\\site-packages\\scipy\\optimize\\linesearch.py:327: LineSearchWarning: The line search algorithm did not converge\n",
      "  warn('The line search algorithm did not converge', LineSearchWarning)\n",
      "C:\\Users\\Gheorghe Pascu\\anaconda3\\envs\\TCRproject\\lib\\site-packages\\sklearn\\utils\\optimize.py:204: UserWarning: Line Search failed\n",
      "  warnings.warn('Line Search failed')\n",
      "C:\\Users\\Gheorghe Pascu\\anaconda3\\envs\\TCRproject\\lib\\site-packages\\scipy\\optimize\\linesearch.py:327: LineSearchWarning: The line search algorithm did not converge\n",
      "  warn('The line search algorithm did not converge', LineSearchWarning)\n",
      "C:\\Users\\Gheorghe Pascu\\anaconda3\\envs\\TCRproject\\lib\\site-packages\\sklearn\\utils\\optimize.py:204: UserWarning: Line Search failed\n",
      "  warnings.warn('Line Search failed')\n",
      "C:\\Users\\Gheorghe Pascu\\anaconda3\\envs\\TCRproject\\lib\\site-packages\\scipy\\optimize\\linesearch.py:327: LineSearchWarning: The line search algorithm did not converge\n",
      "  warn('The line search algorithm did not converge', LineSearchWarning)\n",
      "C:\\Users\\Gheorghe Pascu\\anaconda3\\envs\\TCRproject\\lib\\site-packages\\sklearn\\utils\\optimize.py:204: UserWarning: Line Search failed\n",
      "  warnings.warn('Line Search failed')\n",
      "C:\\Users\\Gheorghe Pascu\\anaconda3\\envs\\TCRproject\\lib\\site-packages\\scipy\\optimize\\linesearch.py:327: LineSearchWarning: The line search algorithm did not converge\n",
      "  warn('The line search algorithm did not converge', LineSearchWarning)\n",
      "C:\\Users\\Gheorghe Pascu\\anaconda3\\envs\\TCRproject\\lib\\site-packages\\sklearn\\utils\\optimize.py:204: UserWarning: Line Search failed\n",
      "  warnings.warn('Line Search failed')\n",
      "C:\\Users\\Gheorghe Pascu\\anaconda3\\envs\\TCRproject\\lib\\site-packages\\scipy\\optimize\\linesearch.py:327: LineSearchWarning: The line search algorithm did not converge\n",
      "  warn('The line search algorithm did not converge', LineSearchWarning)\n",
      "C:\\Users\\Gheorghe Pascu\\anaconda3\\envs\\TCRproject\\lib\\site-packages\\sklearn\\utils\\optimize.py:204: UserWarning: Line Search failed\n",
      "  warnings.warn('Line Search failed')\n",
      "C:\\Users\\Gheorghe Pascu\\anaconda3\\envs\\TCRproject\\lib\\site-packages\\scipy\\optimize\\linesearch.py:327: LineSearchWarning: The line search algorithm did not converge\n",
      "  warn('The line search algorithm did not converge', LineSearchWarning)\n",
      "C:\\Users\\Gheorghe Pascu\\anaconda3\\envs\\TCRproject\\lib\\site-packages\\sklearn\\utils\\optimize.py:204: UserWarning: Line Search failed\n",
      "  warnings.warn('Line Search failed')\n",
      "C:\\Users\\Gheorghe Pascu\\anaconda3\\envs\\TCRproject\\lib\\site-packages\\scipy\\optimize\\linesearch.py:327: LineSearchWarning: The line search algorithm did not converge\n",
      "  warn('The line search algorithm did not converge', LineSearchWarning)\n",
      "C:\\Users\\Gheorghe Pascu\\anaconda3\\envs\\TCRproject\\lib\\site-packages\\sklearn\\utils\\optimize.py:204: UserWarning: Line Search failed\n",
      "  warnings.warn('Line Search failed')\n",
      "C:\\Users\\Gheorghe Pascu\\anaconda3\\envs\\TCRproject\\lib\\site-packages\\scipy\\optimize\\linesearch.py:327: LineSearchWarning: The line search algorithm did not converge\n",
      "  warn('The line search algorithm did not converge', LineSearchWarning)\n",
      "C:\\Users\\Gheorghe Pascu\\anaconda3\\envs\\TCRproject\\lib\\site-packages\\sklearn\\utils\\optimize.py:204: UserWarning: Line Search failed\n",
      "  warnings.warn('Line Search failed')\n"
     ]
    },
    {
     "name": "stdout",
     "output_type": "stream",
     "text": [
      " \n",
      "Results for the adata space:\n",
      " \n",
      "accuracy of each fold - [0.2870643741001236, 0.2454326223569326, 0.311123878426723, 0.4473268688533644, 0.38763562572290106, 0.2975193932304708, 0.2677899095891308, 0.13872108547353926, 0.17729473972842158, 0.1468829344114332]\n",
      "Avg accuracy : 0.27067914318930403\n"
     ]
    },
    {
     "name": "stderr",
     "output_type": "stream",
     "text": [
      "C:\\Users\\Gheorghe Pascu\\anaconda3\\envs\\TCRproject\\lib\\site-packages\\scipy\\optimize\\linesearch.py:327: LineSearchWarning: The line search algorithm did not converge\n",
      "  warn('The line search algorithm did not converge', LineSearchWarning)\n",
      "C:\\Users\\Gheorghe Pascu\\anaconda3\\envs\\TCRproject\\lib\\site-packages\\sklearn\\utils\\optimize.py:204: UserWarning: Line Search failed\n",
      "  warnings.warn('Line Search failed')\n"
     ]
    }
   ],
   "source": [
    "le = LabelEncoder()\n",
    "X = latent.obs['dpt_pseudotime'].to_numpy()\n",
    "y = latent.obs['cell types'].to_numpy()\n",
    "le.fit(y)\n",
    "y = le.transform(y)\n",
    "results1 = results_cross_validation(X,y, score = 'f1_score')\n",
    "print(\"Results for the latent space:\")\n",
    "print(\" \")\n",
    "print('accuracy of each fold - {}'.format(results1[0]))\n",
    "print('Avg accuracy : {}'.format(results1[1]))\n",
    "\n",
    "X = adata.obs['dpt_pseudotime'].to_numpy()\n",
    "y = adata.obs['cell types'].to_numpy()\n",
    "le.fit(y)\n",
    "y = le.transform(y)\n",
    "results2 = results_cross_validation(X,y, score = 'f1_score')\n",
    "print(\" \")\n",
    "print(\"Results for the adata space:\")\n",
    "print(\" \")\n",
    "print('accuracy of each fold - {}'.format(results2[0]))\n",
    "print('Avg accuracy : {}'.format(results2[1]))\n"
   ]
  },
  {
   "cell_type": "markdown",
   "metadata": {},
   "source": [
    "## Results with f1_score and liblinear solver"
   ]
  },
  {
   "cell_type": "code",
   "execution_count": 31,
   "metadata": {},
   "outputs": [
    {
     "name": "stdout",
     "output_type": "stream",
     "text": [
      "Results for the latent space:\n",
      " \n",
      "accuracy of each fold - [0.1813595441724227, 0.1352161230127067, 0.18865541603312277, 0.24777821238331368, 0.2447029720018293, 0.17950129173883603, 0.10463191001925044, 0.05827476049984859, 0.06318176959733494, 0.04501731807454009]\n",
      "Avg accuracy : 0.14483193175332054\n",
      " \n",
      "Results for the adata space:\n",
      " \n",
      "accuracy of each fold - [0.24945440564777002, 0.20891393764018085, 0.27371995093705875, 0.39285797774380726, 0.309927487362194, 0.2421794973228326, 0.24972953597681868, 0.10523042580170672, 0.1457104145714286, 0.1132386744172356]\n",
      "Avg accuracy : 0.22909623074210334\n"
     ]
    }
   ],
   "source": [
    "le = LabelEncoder()\n",
    "X = latent.obs['dpt_pseudotime'].to_numpy()\n",
    "y = latent.obs['cell types'].to_numpy()\n",
    "le.fit(y)\n",
    "y = le.transform(y)\n",
    "results1 = results_cross_validation(X,y, score = 'f1_score')\n",
    "print(\"Results for the latent space:\")\n",
    "print(\" \")\n",
    "print('accuracy of each fold - {}'.format(results1[0]))\n",
    "print('Avg accuracy : {}'.format(results1[1]))\n",
    "\n",
    "X = adata.obs['dpt_pseudotime'].to_numpy()\n",
    "y = adata.obs['cell types'].to_numpy()\n",
    "le.fit(y)\n",
    "y = le.transform(y)\n",
    "results2 = results_cross_validation(X,y, score = 'f1_score')\n",
    "print(\" \")\n",
    "print(\"Results for the adata space:\")\n",
    "print(\" \")\n",
    "print('accuracy of each fold - {}'.format(results2[0]))\n",
    "print('Avg accuracy : {}'.format(results2[1]))\n"
   ]
  },
  {
   "cell_type": "markdown",
   "metadata": {},
   "source": [
    "## Results with initial metric (accuracy_score)"
   ]
  },
  {
   "cell_type": "code",
   "execution_count": 28,
   "metadata": {},
   "outputs": [
    {
     "name": "stderr",
     "output_type": "stream",
     "text": [
      "C:\\Users\\Gheorghe Pascu\\anaconda3\\envs\\TCRproject\\lib\\site-packages\\scipy\\optimize\\linesearch.py:327: LineSearchWarning: The line search algorithm did not converge\n",
      "  warn('The line search algorithm did not converge', LineSearchWarning)\n",
      "C:\\Users\\Gheorghe Pascu\\anaconda3\\envs\\TCRproject\\lib\\site-packages\\sklearn\\utils\\optimize.py:204: UserWarning: Line Search failed\n",
      "  warnings.warn('Line Search failed')\n",
      "C:\\Users\\Gheorghe Pascu\\anaconda3\\envs\\TCRproject\\lib\\site-packages\\scipy\\optimize\\linesearch.py:327: LineSearchWarning: The line search algorithm did not converge\n",
      "  warn('The line search algorithm did not converge', LineSearchWarning)\n",
      "C:\\Users\\Gheorghe Pascu\\anaconda3\\envs\\TCRproject\\lib\\site-packages\\sklearn\\utils\\optimize.py:204: UserWarning: Line Search failed\n",
      "  warnings.warn('Line Search failed')\n",
      "C:\\Users\\Gheorghe Pascu\\anaconda3\\envs\\TCRproject\\lib\\site-packages\\scipy\\optimize\\linesearch.py:327: LineSearchWarning: The line search algorithm did not converge\n",
      "  warn('The line search algorithm did not converge', LineSearchWarning)\n",
      "C:\\Users\\Gheorghe Pascu\\anaconda3\\envs\\TCRproject\\lib\\site-packages\\sklearn\\utils\\optimize.py:204: UserWarning: Line Search failed\n",
      "  warnings.warn('Line Search failed')\n",
      "C:\\Users\\Gheorghe Pascu\\anaconda3\\envs\\TCRproject\\lib\\site-packages\\scipy\\optimize\\linesearch.py:327: LineSearchWarning: The line search algorithm did not converge\n",
      "  warn('The line search algorithm did not converge', LineSearchWarning)\n",
      "C:\\Users\\Gheorghe Pascu\\anaconda3\\envs\\TCRproject\\lib\\site-packages\\sklearn\\utils\\optimize.py:204: UserWarning: Line Search failed\n",
      "  warnings.warn('Line Search failed')\n",
      "C:\\Users\\Gheorghe Pascu\\anaconda3\\envs\\TCRproject\\lib\\site-packages\\scipy\\optimize\\linesearch.py:327: LineSearchWarning: The line search algorithm did not converge\n",
      "  warn('The line search algorithm did not converge', LineSearchWarning)\n",
      "C:\\Users\\Gheorghe Pascu\\anaconda3\\envs\\TCRproject\\lib\\site-packages\\sklearn\\utils\\optimize.py:204: UserWarning: Line Search failed\n",
      "  warnings.warn('Line Search failed')\n",
      "C:\\Users\\Gheorghe Pascu\\anaconda3\\envs\\TCRproject\\lib\\site-packages\\scipy\\optimize\\linesearch.py:327: LineSearchWarning: The line search algorithm did not converge\n",
      "  warn('The line search algorithm did not converge', LineSearchWarning)\n",
      "C:\\Users\\Gheorghe Pascu\\anaconda3\\envs\\TCRproject\\lib\\site-packages\\sklearn\\utils\\optimize.py:204: UserWarning: Line Search failed\n",
      "  warnings.warn('Line Search failed')\n",
      "C:\\Users\\Gheorghe Pascu\\anaconda3\\envs\\TCRproject\\lib\\site-packages\\scipy\\optimize\\linesearch.py:327: LineSearchWarning: The line search algorithm did not converge\n",
      "  warn('The line search algorithm did not converge', LineSearchWarning)\n",
      "C:\\Users\\Gheorghe Pascu\\anaconda3\\envs\\TCRproject\\lib\\site-packages\\sklearn\\utils\\optimize.py:204: UserWarning: Line Search failed\n",
      "  warnings.warn('Line Search failed')\n",
      "C:\\Users\\Gheorghe Pascu\\anaconda3\\envs\\TCRproject\\lib\\site-packages\\scipy\\optimize\\linesearch.py:327: LineSearchWarning: The line search algorithm did not converge\n",
      "  warn('The line search algorithm did not converge', LineSearchWarning)\n",
      "C:\\Users\\Gheorghe Pascu\\anaconda3\\envs\\TCRproject\\lib\\site-packages\\sklearn\\utils\\optimize.py:204: UserWarning: Line Search failed\n",
      "  warnings.warn('Line Search failed')\n",
      "C:\\Users\\Gheorghe Pascu\\anaconda3\\envs\\TCRproject\\lib\\site-packages\\scipy\\optimize\\linesearch.py:327: LineSearchWarning: The line search algorithm did not converge\n",
      "  warn('The line search algorithm did not converge', LineSearchWarning)\n",
      "C:\\Users\\Gheorghe Pascu\\anaconda3\\envs\\TCRproject\\lib\\site-packages\\sklearn\\utils\\optimize.py:204: UserWarning: Line Search failed\n",
      "  warnings.warn('Line Search failed')\n",
      "C:\\Users\\Gheorghe Pascu\\anaconda3\\envs\\TCRproject\\lib\\site-packages\\scipy\\optimize\\linesearch.py:327: LineSearchWarning: The line search algorithm did not converge\n",
      "  warn('The line search algorithm did not converge', LineSearchWarning)\n",
      "C:\\Users\\Gheorghe Pascu\\anaconda3\\envs\\TCRproject\\lib\\site-packages\\sklearn\\utils\\optimize.py:204: UserWarning: Line Search failed\n",
      "  warnings.warn('Line Search failed')\n"
     ]
    },
    {
     "name": "stdout",
     "output_type": "stream",
     "text": [
      "Results for the latent space:\n",
      " \n",
      "accuracy of each fold - [0.33667883211678834, 0.2773722627737226, 0.333029197080292, 0.4005474452554745, 0.3908675799086758, 0.29954337899543376, 0.16621004566210046, 0.1589041095890411, 0.17077625570776256, 0.14337899543378996]\n",
      "Avg accuracy : 0.26773081025230805\n"
     ]
    },
    {
     "name": "stderr",
     "output_type": "stream",
     "text": [
      "C:\\Users\\Gheorghe Pascu\\anaconda3\\envs\\TCRproject\\lib\\site-packages\\scipy\\optimize\\linesearch.py:327: LineSearchWarning: The line search algorithm did not converge\n",
      "  warn('The line search algorithm did not converge', LineSearchWarning)\n",
      "C:\\Users\\Gheorghe Pascu\\anaconda3\\envs\\TCRproject\\lib\\site-packages\\sklearn\\utils\\optimize.py:204: UserWarning: Line Search failed\n",
      "  warnings.warn('Line Search failed')\n",
      "C:\\Users\\Gheorghe Pascu\\anaconda3\\envs\\TCRproject\\lib\\site-packages\\scipy\\optimize\\linesearch.py:327: LineSearchWarning: The line search algorithm did not converge\n",
      "  warn('The line search algorithm did not converge', LineSearchWarning)\n",
      "C:\\Users\\Gheorghe Pascu\\anaconda3\\envs\\TCRproject\\lib\\site-packages\\sklearn\\utils\\optimize.py:204: UserWarning: Line Search failed\n",
      "  warnings.warn('Line Search failed')\n",
      "C:\\Users\\Gheorghe Pascu\\anaconda3\\envs\\TCRproject\\lib\\site-packages\\scipy\\optimize\\linesearch.py:327: LineSearchWarning: The line search algorithm did not converge\n",
      "  warn('The line search algorithm did not converge', LineSearchWarning)\n",
      "C:\\Users\\Gheorghe Pascu\\anaconda3\\envs\\TCRproject\\lib\\site-packages\\sklearn\\utils\\optimize.py:204: UserWarning: Line Search failed\n",
      "  warnings.warn('Line Search failed')\n",
      "C:\\Users\\Gheorghe Pascu\\anaconda3\\envs\\TCRproject\\lib\\site-packages\\scipy\\optimize\\linesearch.py:327: LineSearchWarning: The line search algorithm did not converge\n",
      "  warn('The line search algorithm did not converge', LineSearchWarning)\n",
      "C:\\Users\\Gheorghe Pascu\\anaconda3\\envs\\TCRproject\\lib\\site-packages\\sklearn\\utils\\optimize.py:204: UserWarning: Line Search failed\n",
      "  warnings.warn('Line Search failed')\n",
      "C:\\Users\\Gheorghe Pascu\\anaconda3\\envs\\TCRproject\\lib\\site-packages\\scipy\\optimize\\linesearch.py:327: LineSearchWarning: The line search algorithm did not converge\n",
      "  warn('The line search algorithm did not converge', LineSearchWarning)\n",
      "C:\\Users\\Gheorghe Pascu\\anaconda3\\envs\\TCRproject\\lib\\site-packages\\sklearn\\utils\\optimize.py:204: UserWarning: Line Search failed\n",
      "  warnings.warn('Line Search failed')\n",
      "C:\\Users\\Gheorghe Pascu\\anaconda3\\envs\\TCRproject\\lib\\site-packages\\scipy\\optimize\\linesearch.py:327: LineSearchWarning: The line search algorithm did not converge\n",
      "  warn('The line search algorithm did not converge', LineSearchWarning)\n",
      "C:\\Users\\Gheorghe Pascu\\anaconda3\\envs\\TCRproject\\lib\\site-packages\\sklearn\\utils\\optimize.py:204: UserWarning: Line Search failed\n",
      "  warnings.warn('Line Search failed')\n",
      "C:\\Users\\Gheorghe Pascu\\anaconda3\\envs\\TCRproject\\lib\\site-packages\\scipy\\optimize\\linesearch.py:327: LineSearchWarning: The line search algorithm did not converge\n",
      "  warn('The line search algorithm did not converge', LineSearchWarning)\n",
      "C:\\Users\\Gheorghe Pascu\\anaconda3\\envs\\TCRproject\\lib\\site-packages\\sklearn\\utils\\optimize.py:204: UserWarning: Line Search failed\n",
      "  warnings.warn('Line Search failed')\n",
      "C:\\Users\\Gheorghe Pascu\\anaconda3\\envs\\TCRproject\\lib\\site-packages\\scipy\\optimize\\linesearch.py:327: LineSearchWarning: The line search algorithm did not converge\n",
      "  warn('The line search algorithm did not converge', LineSearchWarning)\n",
      "C:\\Users\\Gheorghe Pascu\\anaconda3\\envs\\TCRproject\\lib\\site-packages\\sklearn\\utils\\optimize.py:204: UserWarning: Line Search failed\n",
      "  warnings.warn('Line Search failed')\n",
      "C:\\Users\\Gheorghe Pascu\\anaconda3\\envs\\TCRproject\\lib\\site-packages\\scipy\\optimize\\linesearch.py:327: LineSearchWarning: The line search algorithm did not converge\n",
      "  warn('The line search algorithm did not converge', LineSearchWarning)\n",
      "C:\\Users\\Gheorghe Pascu\\anaconda3\\envs\\TCRproject\\lib\\site-packages\\sklearn\\utils\\optimize.py:204: UserWarning: Line Search failed\n",
      "  warnings.warn('Line Search failed')\n"
     ]
    },
    {
     "name": "stdout",
     "output_type": "stream",
     "text": [
      " \n",
      "Results for the adata space:\n",
      " \n",
      "accuracy of each fold - [0.4279197080291971, 0.3731751824817518, 0.4416058394160584, 0.5374087591240876, 0.4757990867579909, 0.382648401826484, 0.38995433789954337, 0.245662100456621, 0.26575342465753427, 0.24840182648401826]\n",
      "Avg accuracy : 0.3788328667133287\n"
     ]
    },
    {
     "name": "stderr",
     "output_type": "stream",
     "text": [
      "C:\\Users\\Gheorghe Pascu\\anaconda3\\envs\\TCRproject\\lib\\site-packages\\scipy\\optimize\\linesearch.py:327: LineSearchWarning: The line search algorithm did not converge\n",
      "  warn('The line search algorithm did not converge', LineSearchWarning)\n",
      "C:\\Users\\Gheorghe Pascu\\anaconda3\\envs\\TCRproject\\lib\\site-packages\\sklearn\\utils\\optimize.py:204: UserWarning: Line Search failed\n",
      "  warnings.warn('Line Search failed')\n"
     ]
    }
   ],
   "source": [
    "le = LabelEncoder()\n",
    "X = latent.obs['dpt_pseudotime'].to_numpy()\n",
    "y = latent.obs['cell types'].to_numpy()\n",
    "le.fit(y)\n",
    "y = le.transform(y)\n",
    "results1 = results_cross_validation(X,y, score = 'accuracy_score')\n",
    "print(\"Results for the latent space:\")\n",
    "print(\" \")\n",
    "print('accuracy of each fold - {}'.format(results1[0]))\n",
    "print('Avg accuracy : {}'.format(results1[1]))\n",
    "\n",
    "X = adata.obs['dpt_pseudotime'].to_numpy()\n",
    "y = adata.obs['cell types'].to_numpy()\n",
    "le.fit(y)\n",
    "y = le.transform(y)\n",
    "results2 = results_cross_validation(X,y, score = 'accuracy_score')\n",
    "print(\" \")\n",
    "print(\"Results for the adata space:\")\n",
    "print(\" \")\n",
    "print('accuracy of each fold - {}'.format(results2[0]))\n",
    "print('Avg accuracy : {}'.format(results2[1]))\n"
   ]
  },
  {
   "cell_type": "code",
   "execution_count": null,
   "metadata": {},
   "outputs": [],
   "source": [
    "#SCRAP PAPER\n",
    "\n",
    "# X = latent.obs['dpt_pseudotime'].to_numpy()\n",
    "# X = X.reshape(-1,1)\n",
    "# y = latent.obs['cell types'].to_numpy()\n",
    "# le.fit(y)\n",
    "# y = le.transform(y)\n",
    "# k = 5\n",
    "# kf = KFold(n_splits=k, random_state=None)\n",
    "# model = LogisticRegression(solver = 'newton-cg')\n",
    "# result = cross_val_score(model , X, y, cv = kf)\n",
    " \n",
    "# print(\"Avg accuracy: {}\".format(result.mean()))\n",
    "\n",
    "\n",
    "\n",
    "# X = adata.obs['dpt_pseudotime'].to_numpy()\n",
    "# X = X.reshape(-1,1)\n",
    "# y = adata.obs['cell types'].to_numpy()\n",
    "# le.fit(y)\n",
    "# y = le.transform(y)\n",
    "# k = 5\n",
    "# kf = KFold(n_splits=k, random_state=None)\n",
    "# model = LogisticRegression(solver = 'newton-cg')\n",
    "# result = cross_val_score(model , X, y, cv = kf)\n",
    " \n",
    "# print(\"Avg accuracy: {}\".format(result.mean()))"
   ]
  }
 ],
 "metadata": {
  "interpreter": {
   "hash": "332758f108c491b69a28c419daffc4e1bb34fa08f41268cfe421f95511301e6b"
  },
  "kernelspec": {
   "display_name": "Python 3.8.8 ('TCRproject')",
   "language": "python",
   "name": "python3"
  },
  "language_info": {
   "codemirror_mode": {
    "name": "ipython",
    "version": 3
   },
   "file_extension": ".py",
   "mimetype": "text/x-python",
   "name": "python",
   "nbconvert_exporter": "python",
   "pygments_lexer": "ipython3",
   "version": "3.8.8"
  },
  "orig_nbformat": 4
 },
 "nbformat": 4,
 "nbformat_minor": 2
}
